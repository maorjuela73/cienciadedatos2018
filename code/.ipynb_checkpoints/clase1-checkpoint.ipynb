{
 "cells": [
  {
   "cell_type": "markdown",
   "metadata": {},
   "source": [
    "# Clase # 1\n",
    "El siguiente código ilustra la forma en la que se crean arreglos de números y generar medidas de resumen básicas."
   ]
  },
  {
   "cell_type": "code",
   "execution_count": 1,
   "metadata": {},
   "outputs": [],
   "source": [
    "# -*- coding: utf-8 -*-\n",
    "\n",
    "num_cafes = [0, 1, 0, 2, 3, 0, 1, 2, 0, 2, 2, 2, 1, 0, 3, 4]\n",
    "\n",
    "n_obs = len(num_cafes)\n",
    "sum_cafes = 0.0\n",
    "for x in num_cafes:\n",
    "    sum_cafes=sum_cafes+x\n",
    "prom_cafes = sum_cafes/n_obs\n",
    "max_cafes = max(num_cafes)\n",
    "min_cafes = min(num_cafes)\n",
    "# -*- coding: utf-8 -*-\n",
    "\n",
    "num_cafes = [0, 1, 0, 2, 3, 0, 1, 2, 0, 2, 2, 2, 1, 0, 3, 4]\n",
    "\n",
    "n_obs = len(num_cafes)\n",
    "sum_cafes = 0.0\n",
    "for x in num_cafes:\n",
    "    sum_cafes=sum_cafes+x\n",
    "prom_cafes = sum_cafes/n_obs\n",
    "max_cafes = max(num_cafes)\n",
    "min_cafes = min(num_cafes)"
   ]
  },
  {
   "cell_type": "markdown",
   "metadata": {},
   "source": [
    "Ahora en la memoria tenemos creadas las variables `num_cafes`, `n_obs`, `sum_cafes`, `prom_cafes`, `max_cafes`, `min_cafes`. Podemos consultar sus valores con el comando `print()` como se muestra a continuación:"
   ]
  },
  {
   "cell_type": "code",
   "execution_count": 2,
   "metadata": {},
   "outputs": [
    {
     "name": "stdout",
     "output_type": "stream",
     "text": [
      "16\n"
     ]
    }
   ],
   "source": [
    "print(n_obs)"
   ]
  },
  {
   "cell_type": "code",
   "execution_count": 3,
   "metadata": {},
   "outputs": [
    {
     "name": "stdout",
     "output_type": "stream",
     "text": [
      "23.0\n"
     ]
    }
   ],
   "source": [
    "print(sum_cafes)"
   ]
  },
  {
   "cell_type": "code",
   "execution_count": 4,
   "metadata": {},
   "outputs": [
    {
     "name": "stdout",
     "output_type": "stream",
     "text": [
      "1.4375\n"
     ]
    }
   ],
   "source": [
    "print(prom_cafes)"
   ]
  }
 ],
 "metadata": {
  "kernelspec": {
   "display_name": "Python 3",
   "language": "python",
   "name": "python3"
  },
  "language_info": {
   "codemirror_mode": {
    "name": "ipython",
    "version": 3
   },
   "file_extension": ".py",
   "mimetype": "text/x-python",
   "name": "python",
   "nbconvert_exporter": "python",
   "pygments_lexer": "ipython3",
   "version": "3.6.4"
  }
 },
 "nbformat": 4,
 "nbformat_minor": 2
}
